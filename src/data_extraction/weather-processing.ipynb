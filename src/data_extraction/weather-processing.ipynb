{
 "cells": [
  {
   "cell_type": "code",
   "execution_count": 3,
   "metadata": {},
   "outputs": [
    {
     "name": "stdout",
     "output_type": "stream",
     "text": [
      "    Year  Month    National Park   Temp Avg  Dew Point Avg  Humidity Avg  \\\n",
      "0   2015      1  Channel_Islands  55.367742      45.864516     73.909677   \n",
      "9   2015      2  Channel_Islands  57.810714      49.464286     77.132143   \n",
      "18  2015      3  Channel_Islands  61.190323      49.703226     70.480645   \n",
      "27  2015      4  Channel_Islands  60.483333      46.133333     63.280000   \n",
      "36  2015      5  Channel_Islands  59.293548      49.864516     72.274194   \n",
      "\n",
      "    Wind Speed Avg  Pressure Avg  Precipitation Total  \n",
      "0         2.767742     30.080645                 1.33  \n",
      "9         4.146429     30.007143                 0.32  \n",
      "18        4.629032     29.993548                 0.30  \n",
      "27        6.313333     29.923333                 0.18  \n",
      "36        6.303226     29.922581                 0.32  \n"
     ]
    }
   ],
   "source": [
    "import pandas as pd\n",
    "import os\n",
    "\n",
    "# Define the folder path\n",
    "folder_path = '/Users/himanshunimonkar/Downloads/STA_220/weather-data'\n",
    "\n",
    "# Define the columns to keep\n",
    "columns_to_keep = ['Year', 'Month', 'Temp Avg', 'Dew Point Avg', 'Humidity Avg', 'Wind Speed Avg', 'Pressure Avg', 'Precipitation Total']\n",
    "\n",
    "# Initialize an empty list to store dataframes\n",
    "all_data = []\n",
    "\n",
    "# Loop through all files in the folder\n",
    "for filename in os.listdir(folder_path):\n",
    "    if filename.endswith('.csv'):\n",
    "        # Create the full file path\n",
    "        file_path = os.path.join(folder_path, filename)\n",
    "        \n",
    "        # Extract the national park name from the filename (assuming it's the name before \".csv\")\n",
    "        park_name = os.path.splitext(filename)[0]\n",
    "        \n",
    "        # Load the dataset\n",
    "        df = pd.read_csv(file_path)\n",
    "        \n",
    "        # Keep only the relevant columns\n",
    "        df = df[columns_to_keep]\n",
    "        \n",
    "        # Convert 'Precipitation Total' to float (to avoid errors when summing)\n",
    "        df['Precipitation Total'] = pd.to_numeric(df['Precipitation Total'], errors='coerce')\n",
    "        \n",
    "        # Add a new column for the national park name\n",
    "        df['National Park'] = park_name\n",
    "        \n",
    "        # Append the dataframe to the list\n",
    "        all_data.append(df)\n",
    "\n",
    "# Combine all the dataframes into one\n",
    "combined_df = pd.concat(all_data, ignore_index=True)\n",
    "\n",
    "# Group by Year, Month, and National Park\n",
    "# Sum the 'Precipitation Total' and take the average of the other relevant columns\n",
    "combined_monthly = combined_df.groupby(['Year', 'Month', 'National Park']).agg(\n",
    "    {\n",
    "        'Temp Avg': 'mean',\n",
    "        'Dew Point Avg': 'mean',\n",
    "        'Humidity Avg': 'mean',\n",
    "        'Wind Speed Avg': 'mean',\n",
    "        'Pressure Avg': 'mean',\n",
    "        'Precipitation Total': 'sum'  # Sum the total precipitation for the month\n",
    "    }\n",
    ").reset_index()\n",
    "\n",
    "# Sort by National Park, Year, and Month\n",
    "sorted_combined_monthly = combined_monthly.sort_values(by=['National Park', 'Year', 'Month'])\n",
    "\n",
    "# Save the result to a new CSV file\n",
    "sorted_combined_monthly.to_csv('combined_monthly_totals_sorted.csv', index=False)\n",
    "\n",
    "# Display the first few rows of the processed data\n",
    "print(sorted_combined_monthly.head())\n"
   ]
  }
 ],
 "metadata": {
  "kernelspec": {
   "display_name": "Python 3",
   "language": "python",
   "name": "python3"
  },
  "language_info": {
   "codemirror_mode": {
    "name": "ipython",
    "version": 3
   },
   "file_extension": ".py",
   "mimetype": "text/x-python",
   "name": "python",
   "nbconvert_exporter": "python",
   "pygments_lexer": "ipython3",
   "version": "3.10.11"
  }
 },
 "nbformat": 4,
 "nbformat_minor": 2
}
